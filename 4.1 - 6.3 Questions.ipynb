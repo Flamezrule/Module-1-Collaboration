{
 "cells": [
  {
   "cell_type": "code",
   "execution_count": 9,
   "id": "ade977cd-dafb-49d6-ba4c-071640073fe2",
   "metadata": {},
   "outputs": [
    {
     "name": "stdout",
     "output_type": "stream",
     "text": [
      "The guess is correct\n"
     ]
    }
   ],
   "source": [
    "#4.1\n",
    "secret = 7\n",
    "guess = 7\n",
    "if guess > secret:\n",
    "    print(\"The guess was too high\")\n",
    "elif guess < secret:\n",
    "    print(\"The guess was too low\")\n",
    "else:\n",
    "    print(\"The guess is correct\")"
   ]
  },
  {
   "cell_type": "code",
   "execution_count": 15,
   "id": "485ecd44-5f7d-4917-865e-6c693ed20b3f",
   "metadata": {},
   "outputs": [
    {
     "name": "stdout",
     "output_type": "stream",
     "text": [
      "The item is a Watermelon\n"
     ]
    }
   ],
   "source": [
    "#4.2\n",
    "small = False #Switchable bool var\n",
    "green = True #Switchable bool var\n",
    "if small and green:\n",
    "    print(\"The item is a Pea\") #Small & Green\n",
    "elif small and not green:\n",
    "    print(\"The item is a Cherry\") #Small & Not Green\n",
    "elif not small and green:\n",
    "    print(\"The item is a Watermelon\") #Not Small & Green\n",
    "else:\n",
    "    print(\"The item is a Pumpkin\") #Not Small & Not Green\n"
   ]
  },
  {
   "cell_type": "code",
   "execution_count": 21,
   "id": "164f47bf-a070-46ab-8951-36cd0e549bca",
   "metadata": {},
   "outputs": [
    {
     "name": "stdout",
     "output_type": "stream",
     "text": [
      "3\n",
      "2\n",
      "1\n",
      "0\n"
     ]
    }
   ],
   "source": [
    "#6.1\n",
    "list = [3, 2, 1, 0]\n",
    "\n",
    "#Stores the value of \"List\" into temp variable counter then display it until the loop has displayed all values\n",
    "for counter in list:\n",
    "    print(counter)\n"
   ]
  },
  {
   "cell_type": "code",
   "execution_count": 25,
   "id": "f0415570-f4fc-48ae-9298-c1716d98377d",
   "metadata": {},
   "outputs": [
    {
     "name": "stdout",
     "output_type": "stream",
     "text": [
      "Too Low\n",
      "Too Low\n",
      "Too Low\n",
      "Too Low\n",
      "Too Low\n",
      "Too Low\n",
      "Found it!\n"
     ]
    }
   ],
   "source": [
    "#6.2\n",
    "guess_me = 7\n",
    "number = 1\n",
    "\n",
    "while True: #Changed to true as != isn't compatiable for this loop test\n",
    "    if number < guess_me:\n",
    "        print(\"Too Low\")\n",
    "    elif number == guess_me:\n",
    "        print(\"Found it!\")\n",
    "        break\n",
    "    else:\n",
    "        print(\"Oops\")\n",
    "        break\n",
    "    number = number + 1 #Formatted so it is tested at the end of each loop\n"
   ]
  },
  {
   "cell_type": "code",
   "execution_count": 29,
   "id": "84f7fa9a-ff0d-4879-a0b8-a154f3163376",
   "metadata": {},
   "outputs": [
    {
     "name": "stdout",
     "output_type": "stream",
     "text": [
      "Too Low\n",
      "Too Low\n",
      "Too Low\n",
      "Too Low\n",
      "Too Low\n",
      "Found It!\n"
     ]
    }
   ],
   "source": [
    "#6.3\n",
    "guess_me = 5\n",
    "\n",
    "for number in range(10):\n",
    "    if number < guess_me:\n",
    "        print(\"Too Low\")\n",
    "    elif number == guess_me:\n",
    "        print(\"Found It!\")\n",
    "        break\n",
    "    else:\n",
    "        print(\"Oops\")\n",
    "        break"
   ]
  },
  {
   "cell_type": "code",
   "execution_count": null,
   "id": "c44125da-e47f-44d2-a65d-87337e9c9090",
   "metadata": {},
   "outputs": [],
   "source": []
  }
 ],
 "metadata": {
  "kernelspec": {
   "display_name": "Python 3 (ipykernel)",
   "language": "python",
   "name": "python3"
  },
  "language_info": {
   "codemirror_mode": {
    "name": "ipython",
    "version": 3
   },
   "file_extension": ".py",
   "mimetype": "text/x-python",
   "name": "python",
   "nbconvert_exporter": "python",
   "pygments_lexer": "ipython3",
   "version": "3.12.7"
  }
 },
 "nbformat": 4,
 "nbformat_minor": 5
}
