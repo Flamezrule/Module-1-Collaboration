{
 "cells": [
  {
   "cell_type": "code",
   "execution_count": 17,
   "id": "fc4d3b13-5b69-416e-9b7b-6ba8dfa6e937",
   "metadata": {},
   "outputs": [
    {
     "name": "stdout",
     "output_type": "stream",
     "text": [
      "3600\n",
      "86400\n",
      "24.0\n",
      "24\n"
     ]
    }
   ],
   "source": [
    "mph = 60 #minutes per hour\n",
    "spm = 60 #Seconds per minute\n",
    "secondsPerHour = mph * spm #Q1 & Q2\n",
    "print(secondsPerHour) #3600\n",
    "hpd = 24 #Hours per day\n",
    "secondsPerDay = secondsPerHour * hpd #Q3 & Q4\n",
    "print(secondsPerDay) #86400\n",
    "question5 = secondsPerDay / secondsPerHour\n",
    "print(question5) #24.0\n",
    "question6 = secondsPerDay // secondsPerHour\n",
    "print(question6) #24\n",
    "#The results are the same minus the .0 at the end"
   ]
  },
  {
   "cell_type": "code",
   "execution_count": null,
   "id": "cfb62cea-d9c9-4fa0-ad94-40d761d52a9a",
   "metadata": {},
   "outputs": [],
   "source": []
  }
 ],
 "metadata": {
  "kernelspec": {
   "display_name": "Python 3 (ipykernel)",
   "language": "python",
   "name": "python3"
  },
  "language_info": {
   "codemirror_mode": {
    "name": "ipython",
    "version": 3
   },
   "file_extension": ".py",
   "mimetype": "text/x-python",
   "name": "python",
   "nbconvert_exporter": "python",
   "pygments_lexer": "ipython3",
   "version": "3.12.7"
  }
 },
 "nbformat": 4,
 "nbformat_minor": 5
}
